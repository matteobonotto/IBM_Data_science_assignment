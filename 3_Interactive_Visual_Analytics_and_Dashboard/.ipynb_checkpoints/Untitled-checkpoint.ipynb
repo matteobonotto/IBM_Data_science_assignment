{
 "cells": [
  {
   "cell_type": "code",
   "execution_count": 2,
   "id": "0f175550-0299-4fcc-b436-47f5c8a31346",
   "metadata": {},
   "outputs": [
    {
     "name": "stderr",
     "output_type": "stream",
     "text": [
      "C:\\Users\\matte\\AppData\\Local\\Temp\\ipykernel_15688\\3914611447.py:5: UserWarning: \n",
      "The dash_core_components package is deprecated. Please replace\n",
      "`import dash_core_components as dcc` with `from dash import dcc`\n",
      "  import dash_core_components as dcc\n"
     ]
    }
   ],
   "source": [
    "# Import required libraries\n",
    "import pandas as pd\n",
    "import dash import dcc\n",
    "# import dash_html_components as html\n",
    "import dash_core_components as dcc\n",
    "# from dash.dependencies import Input, Output\n",
    "import plotly.express as px\n",
    "import numpy as np"
   ]
  },
  {
   "cell_type": "code",
   "execution_count": null,
   "id": "581f7832-5356-4390-bae9-8516393ba042",
   "metadata": {},
   "outputs": [],
   "source": [
    "# Read the airline data into pandas dataframe\n",
    "spacex_df = pd.read_csv(\"spacex_launch_dash.csv\")\n",
    "max_payload = spacex_df['Payload Mass (kg)'].max()\n",
    "min_payload = spacex_df['Payload Mass (kg)'].min()\n",
    "\n",
    "rate = spacex_df[['class','Launch Site']].groupby('Launch Site').mean()\n",
    "success_rate = np.zeros([spacex_df.shape[0],1])\n",
    "for ii in range(0,rate.index.shape[0]):\n",
    "    mask = np.where(spacex_df[['Launch Site']] == rate.index[ii])\n",
    "    success_rate[mask] = rate.iloc[ii,0]\n",
    "    \n",
    "spacex_df[['success_rate']] = success_rate\n",
    "\n",
    "spacex_df.head()\n"
   ]
  },
  {
   "cell_type": "code",
   "execution_count": null,
   "id": "3931dc07-8836-4355-b5f8-5b9af42338bf",
   "metadata": {},
   "outputs": [],
   "source": [
    "# Create a dash application\n",
    "app = dash.Dash(__name__)\n",
    "\n",
    "# Create an app layout\n",
    "app.layout = html.Div(children=[html.H1('SpaceX Launch Records Dashboard',\n",
    "                                        style={'textAlign': 'center', 'color': '#503D36',\n",
    "                                               'font-size': 40}),\n",
    "                                # TASK 1: Add a dropdown list to enable Launch Site selection\n",
    "                                # The default select value is for ALL sites\n",
    "                                dcc.Dropdown(id='id',\n",
    "                                             options=[\n",
    "                                                 {'label': 'All Sites',\n",
    "                                                     'value': 'ALL'},\n",
    "                                                 {'label': 'CCAFS LC-40',\n",
    "                                                     'value': 'CCAFS LC-40'},\n",
    "                                                 {'label': 'CCAFS SLC-40',\n",
    "                                                     'value': 'CCAFS SLC-40'},\n",
    "                                                 {'label': 'KSC LC-39A',\n",
    "                                                     'value': 'KSC LC-39A'},\n",
    "                                                 {'label': 'VAFB SLC-4E',\n",
    "                                                     'value': 'VAFB SLC-4E'},\n",
    "                                             ],\n",
    "                                             value='ALL',\n",
    "                                             placeholder='Select launch site',\n",
    "                                             searchable=True\n",
    "                                             ),\n",
    "                                html.Br(),\n",
    "\n",
    "                                # TASK 2: Add a pie chart to show the total successful launches count for all sites\n",
    "                                # If a specific launch site was selected, show the Success vs. Failed counts for the site\n",
    "                                html.Div(dcc.Graph(id='success-pie-chart')),\n",
    "                                html.Br(),\n",
    "\n",
    "                                html.P(\"Payload range (Kg):\"),\n",
    "                                # TASK 3: Add a slider to select payload range\n",
    "                                # dcc.RangeSlider(id='payload-slider',...)\n",
    "\n",
    "                                # TASK 4: Add a scatter chart to show the correlation between payload and launch success\n",
    "                                # html.Div(\n",
    "                                #     dcc.Graph(id='success-payload-scatter-chart')),\n",
    "                                ])\n",
    "\n",
    "# TASK 2:\n",
    "# Add a callback function for `site-dropdown` as input, `success-pie-chart` as output\n",
    "# Function decorator to specify function input and output\n",
    "@app.callback(Output(component_id='success-pie-chart', component_property='figure'),\n",
    "              Input(component_id='site-dropdown', component_property='value'))\n",
    "def get_pie_chart(entered_site):\n",
    "    filtered_df = spacex_df\n",
    "    if entered_site == 'ALL':\n",
    "        fig = px.pie(filtered_df, values='Launch Site', \n",
    "        names='success_rate', \n",
    "        title='title')\n",
    "        return fig\n",
    "    elif entered_site == 'CCAFS LC-40':\n",
    "        # return the outcomes piechart for a selected site\n",
    "        fig = px.pie(filtered_df, values='CCAFS LC-40', \n",
    "        names='class', \n",
    "        title='title')\n",
    "        return fig\n",
    "\n",
    "    # REVIEW6: Return dcc.Graph component to the empty division\n",
    "        return [dcc.Graph(figure=fig)]\n",
    "\n",
    "\n",
    "# TASK 4:\n",
    "# Add a callback function for `site-dropdown` and `payload-slider` as inputs, `success-payload-scatter-chart` as output\n",
    "\n",
    "\n",
    "# Run the app\n",
    "if __name__ == '__main__':\n",
    "    app.run_server()"
   ]
  }
 ],
 "metadata": {
  "kernelspec": {
   "display_name": "Python 3 (ipykernel)",
   "language": "python",
   "name": "python3"
  },
  "language_info": {
   "codemirror_mode": {
    "name": "ipython",
    "version": 3
   },
   "file_extension": ".py",
   "mimetype": "text/x-python",
   "name": "python",
   "nbconvert_exporter": "python",
   "pygments_lexer": "ipython3",
   "version": "3.9.12"
  }
 },
 "nbformat": 4,
 "nbformat_minor": 5
}
